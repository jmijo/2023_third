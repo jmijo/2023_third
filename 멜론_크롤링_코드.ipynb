{
  "cells": [
    {
      "cell_type": "markdown",
      "metadata": {
        "id": "view-in-github",
        "colab_type": "text"
      },
      "source": [
        "<a href=\"https://colab.research.google.com/github/jmijo/2023_third/blob/main/%EB%A9%9C%EB%A1%A0_%ED%81%AC%EB%A1%A4%EB%A7%81_%EC%BD%94%EB%93%9C.ipynb\" target=\"_parent\"><img src=\"https://colab.research.google.com/assets/colab-badge.svg\" alt=\"Open In Colab\"/></a>"
      ]
    },
    {
      "cell_type": "code",
      "execution_count": null,
      "id": "2e6b86e4",
      "metadata": {
        "id": "2e6b86e4",
        "outputId": "da2d8517-48a8-4ef5-d14a-72b08674e4eb"
      },
      "outputs": [
        {
          "ename": "ElementNotInteractableException",
          "evalue": "Message: element not interactable\n  (Session info: chrome=119.0.6045.200)\nStacktrace:\n\tGetHandleVerifier [0x00007FF61BB682B2+55298]\n\t(No symbol) [0x00007FF61BAD5E02]\n\t(No symbol) [0x00007FF61B99045D]\n\t(No symbol) [0x00007FF61B9D2B4C]\n\t(No symbol) [0x00007FF61B9C87BF]\n\t(No symbol) [0x00007FF61B9F20AA]\n\t(No symbol) [0x00007FF61B9C80CF]\n\t(No symbol) [0x00007FF61B9F22C0]\n\t(No symbol) [0x00007FF61BA0AAA4]\n\t(No symbol) [0x00007FF61B9F1E83]\n\t(No symbol) [0x00007FF61B9C670A]\n\t(No symbol) [0x00007FF61B9C7964]\n\tGetHandleVerifier [0x00007FF61BEE0AAB+3694587]\n\tGetHandleVerifier [0x00007FF61BF3728E+4048862]\n\tGetHandleVerifier [0x00007FF61BF2F173+4015811]\n\tGetHandleVerifier [0x00007FF61BC047D6+695590]\n\t(No symbol) [0x00007FF61BAE0CE8]\n\t(No symbol) [0x00007FF61BADCF34]\n\t(No symbol) [0x00007FF61BADD062]\n\t(No symbol) [0x00007FF61BACD3A3]\n\tBaseThreadInitThunk [0x00007FF81667257D+29]\n\tRtlUserThreadStart [0x00007FF817AAAA58+40]\n",
          "output_type": "error",
          "traceback": [
            "\u001b[1;31m---------------------------------------------------------------------------\u001b[0m",
            "\u001b[1;31mElementNotInteractableException\u001b[0m           Traceback (most recent call last)",
            "\u001b[1;32m~\\AppData\\Local\\Temp\\ipykernel_26024\\4277484599.py\u001b[0m in \u001b[0;36m<module>\u001b[1;34m\u001b[0m\n\u001b[0;32m     16\u001b[0m \u001b[1;32mfor\u001b[0m \u001b[0mi\u001b[0m \u001b[1;32min\u001b[0m \u001b[0mrange\u001b[0m\u001b[1;33m(\u001b[0m\u001b[1;36m28\u001b[0m\u001b[1;33m,\u001b[0m\u001b[1;36m79\u001b[0m\u001b[1;33m)\u001b[0m\u001b[1;33m:\u001b[0m\u001b[1;33m\u001b[0m\u001b[1;33m\u001b[0m\u001b[0m\n\u001b[0;32m     17\u001b[0m     \u001b[0minfo_list\u001b[0m \u001b[1;33m=\u001b[0m \u001b[0mdriver\u001b[0m\u001b[1;33m.\u001b[0m\u001b[0mfind_elements\u001b[0m\u001b[1;33m(\u001b[0m\u001b[0mBy\u001b[0m\u001b[1;33m.\u001b[0m\u001b[0mCSS_SELECTOR\u001b[0m\u001b[1;33m,\u001b[0m\u001b[1;34m\".btn.btn_icon_detail\"\u001b[0m\u001b[1;33m)\u001b[0m \u001b[1;31m# 곡정보 더보기 버튼 클릭\u001b[0m\u001b[1;33m\u001b[0m\u001b[1;33m\u001b[0m\u001b[0m\n\u001b[1;32m---> 18\u001b[1;33m     \u001b[0minfo_list\u001b[0m\u001b[1;33m[\u001b[0m\u001b[0mi\u001b[0m\u001b[1;33m]\u001b[0m\u001b[1;33m.\u001b[0m\u001b[0mclick\u001b[0m\u001b[1;33m(\u001b[0m\u001b[1;33m)\u001b[0m\u001b[1;33m\u001b[0m\u001b[1;33m\u001b[0m\u001b[0m\n\u001b[0m\u001b[0;32m     19\u001b[0m     \u001b[0mtime\u001b[0m\u001b[1;33m.\u001b[0m\u001b[0msleep\u001b[0m\u001b[1;33m(\u001b[0m\u001b[1;36m0.2\u001b[0m\u001b[1;33m)\u001b[0m\u001b[1;33m\u001b[0m\u001b[1;33m\u001b[0m\u001b[0m\n\u001b[0;32m     20\u001b[0m     \u001b[0msong\u001b[0m \u001b[1;33m=\u001b[0m \u001b[0mdriver\u001b[0m\u001b[1;33m.\u001b[0m\u001b[0mfind_element\u001b[0m\u001b[1;33m(\u001b[0m\u001b[0mBy\u001b[0m\u001b[1;33m.\u001b[0m\u001b[0mCSS_SELECTOR\u001b[0m\u001b[1;33m,\u001b[0m\u001b[1;34m\".song_name\"\u001b[0m\u001b[1;33m)\u001b[0m\u001b[1;33m\u001b[0m\u001b[1;33m\u001b[0m\u001b[0m\n",
            "\u001b[1;32m~\\anaconda3\\envs\\mj\\lib\\site-packages\\selenium\\webdriver\\remote\\webelement.py\u001b[0m in \u001b[0;36mclick\u001b[1;34m(self)\u001b[0m\n\u001b[0;32m     92\u001b[0m     \u001b[1;32mdef\u001b[0m \u001b[0mclick\u001b[0m\u001b[1;33m(\u001b[0m\u001b[0mself\u001b[0m\u001b[1;33m)\u001b[0m \u001b[1;33m->\u001b[0m \u001b[1;32mNone\u001b[0m\u001b[1;33m:\u001b[0m\u001b[1;33m\u001b[0m\u001b[1;33m\u001b[0m\u001b[0m\n\u001b[0;32m     93\u001b[0m         \u001b[1;34m\"\"\"Clicks the element.\"\"\"\u001b[0m\u001b[1;33m\u001b[0m\u001b[1;33m\u001b[0m\u001b[0m\n\u001b[1;32m---> 94\u001b[1;33m         \u001b[0mself\u001b[0m\u001b[1;33m.\u001b[0m\u001b[0m_execute\u001b[0m\u001b[1;33m(\u001b[0m\u001b[0mCommand\u001b[0m\u001b[1;33m.\u001b[0m\u001b[0mCLICK_ELEMENT\u001b[0m\u001b[1;33m)\u001b[0m\u001b[1;33m\u001b[0m\u001b[1;33m\u001b[0m\u001b[0m\n\u001b[0m\u001b[0;32m     95\u001b[0m \u001b[1;33m\u001b[0m\u001b[0m\n\u001b[0;32m     96\u001b[0m     \u001b[1;32mdef\u001b[0m \u001b[0msubmit\u001b[0m\u001b[1;33m(\u001b[0m\u001b[0mself\u001b[0m\u001b[1;33m)\u001b[0m\u001b[1;33m:\u001b[0m\u001b[1;33m\u001b[0m\u001b[1;33m\u001b[0m\u001b[0m\n",
            "\u001b[1;32m~\\anaconda3\\envs\\mj\\lib\\site-packages\\selenium\\webdriver\\remote\\webelement.py\u001b[0m in \u001b[0;36m_execute\u001b[1;34m(self, command, params)\u001b[0m\n\u001b[0;32m    393\u001b[0m             \u001b[0mparams\u001b[0m \u001b[1;33m=\u001b[0m \u001b[1;33m{\u001b[0m\u001b[1;33m}\u001b[0m\u001b[1;33m\u001b[0m\u001b[1;33m\u001b[0m\u001b[0m\n\u001b[0;32m    394\u001b[0m         \u001b[0mparams\u001b[0m\u001b[1;33m[\u001b[0m\u001b[1;34m\"id\"\u001b[0m\u001b[1;33m]\u001b[0m \u001b[1;33m=\u001b[0m \u001b[0mself\u001b[0m\u001b[1;33m.\u001b[0m\u001b[0m_id\u001b[0m\u001b[1;33m\u001b[0m\u001b[1;33m\u001b[0m\u001b[0m\n\u001b[1;32m--> 395\u001b[1;33m         \u001b[1;32mreturn\u001b[0m \u001b[0mself\u001b[0m\u001b[1;33m.\u001b[0m\u001b[0m_parent\u001b[0m\u001b[1;33m.\u001b[0m\u001b[0mexecute\u001b[0m\u001b[1;33m(\u001b[0m\u001b[0mcommand\u001b[0m\u001b[1;33m,\u001b[0m \u001b[0mparams\u001b[0m\u001b[1;33m)\u001b[0m\u001b[1;33m\u001b[0m\u001b[1;33m\u001b[0m\u001b[0m\n\u001b[0m\u001b[0;32m    396\u001b[0m \u001b[1;33m\u001b[0m\u001b[0m\n\u001b[0;32m    397\u001b[0m     \u001b[1;32mdef\u001b[0m \u001b[0mfind_element\u001b[0m\u001b[1;33m(\u001b[0m\u001b[0mself\u001b[0m\u001b[1;33m,\u001b[0m \u001b[0mby\u001b[0m\u001b[1;33m=\u001b[0m\u001b[0mBy\u001b[0m\u001b[1;33m.\u001b[0m\u001b[0mID\u001b[0m\u001b[1;33m,\u001b[0m \u001b[0mvalue\u001b[0m\u001b[1;33m=\u001b[0m\u001b[1;32mNone\u001b[0m\u001b[1;33m)\u001b[0m \u001b[1;33m->\u001b[0m \u001b[0mWebElement\u001b[0m\u001b[1;33m:\u001b[0m\u001b[1;33m\u001b[0m\u001b[1;33m\u001b[0m\u001b[0m\n",
            "\u001b[1;32m~\\anaconda3\\envs\\mj\\lib\\site-packages\\selenium\\webdriver\\remote\\webdriver.py\u001b[0m in \u001b[0;36mexecute\u001b[1;34m(self, driver_command, params)\u001b[0m\n\u001b[0;32m    343\u001b[0m         \u001b[0mresponse\u001b[0m \u001b[1;33m=\u001b[0m \u001b[0mself\u001b[0m\u001b[1;33m.\u001b[0m\u001b[0mcommand_executor\u001b[0m\u001b[1;33m.\u001b[0m\u001b[0mexecute\u001b[0m\u001b[1;33m(\u001b[0m\u001b[0mdriver_command\u001b[0m\u001b[1;33m,\u001b[0m \u001b[0mparams\u001b[0m\u001b[1;33m)\u001b[0m\u001b[1;33m\u001b[0m\u001b[1;33m\u001b[0m\u001b[0m\n\u001b[0;32m    344\u001b[0m         \u001b[1;32mif\u001b[0m \u001b[0mresponse\u001b[0m\u001b[1;33m:\u001b[0m\u001b[1;33m\u001b[0m\u001b[1;33m\u001b[0m\u001b[0m\n\u001b[1;32m--> 345\u001b[1;33m             \u001b[0mself\u001b[0m\u001b[1;33m.\u001b[0m\u001b[0merror_handler\u001b[0m\u001b[1;33m.\u001b[0m\u001b[0mcheck_response\u001b[0m\u001b[1;33m(\u001b[0m\u001b[0mresponse\u001b[0m\u001b[1;33m)\u001b[0m\u001b[1;33m\u001b[0m\u001b[1;33m\u001b[0m\u001b[0m\n\u001b[0m\u001b[0;32m    346\u001b[0m             \u001b[0mresponse\u001b[0m\u001b[1;33m[\u001b[0m\u001b[1;34m\"value\"\u001b[0m\u001b[1;33m]\u001b[0m \u001b[1;33m=\u001b[0m \u001b[0mself\u001b[0m\u001b[1;33m.\u001b[0m\u001b[0m_unwrap_value\u001b[0m\u001b[1;33m(\u001b[0m\u001b[0mresponse\u001b[0m\u001b[1;33m.\u001b[0m\u001b[0mget\u001b[0m\u001b[1;33m(\u001b[0m\u001b[1;34m\"value\"\u001b[0m\u001b[1;33m,\u001b[0m \u001b[1;32mNone\u001b[0m\u001b[1;33m)\u001b[0m\u001b[1;33m)\u001b[0m\u001b[1;33m\u001b[0m\u001b[1;33m\u001b[0m\u001b[0m\n\u001b[0;32m    347\u001b[0m             \u001b[1;32mreturn\u001b[0m \u001b[0mresponse\u001b[0m\u001b[1;33m\u001b[0m\u001b[1;33m\u001b[0m\u001b[0m\n",
            "\u001b[1;32m~\\anaconda3\\envs\\mj\\lib\\site-packages\\selenium\\webdriver\\remote\\errorhandler.py\u001b[0m in \u001b[0;36mcheck_response\u001b[1;34m(self, response)\u001b[0m\n\u001b[0;32m    227\u001b[0m                 \u001b[0malert_text\u001b[0m \u001b[1;33m=\u001b[0m \u001b[0mvalue\u001b[0m\u001b[1;33m[\u001b[0m\u001b[1;34m\"alert\"\u001b[0m\u001b[1;33m]\u001b[0m\u001b[1;33m.\u001b[0m\u001b[0mget\u001b[0m\u001b[1;33m(\u001b[0m\u001b[1;34m\"text\"\u001b[0m\u001b[1;33m)\u001b[0m\u001b[1;33m\u001b[0m\u001b[1;33m\u001b[0m\u001b[0m\n\u001b[0;32m    228\u001b[0m             \u001b[1;32mraise\u001b[0m \u001b[0mexception_class\u001b[0m\u001b[1;33m(\u001b[0m\u001b[0mmessage\u001b[0m\u001b[1;33m,\u001b[0m \u001b[0mscreen\u001b[0m\u001b[1;33m,\u001b[0m \u001b[0mstacktrace\u001b[0m\u001b[1;33m,\u001b[0m \u001b[0malert_text\u001b[0m\u001b[1;33m)\u001b[0m  \u001b[1;31m# type: ignore[call-arg]  # mypy is not smart enough here\u001b[0m\u001b[1;33m\u001b[0m\u001b[1;33m\u001b[0m\u001b[0m\n\u001b[1;32m--> 229\u001b[1;33m         \u001b[1;32mraise\u001b[0m \u001b[0mexception_class\u001b[0m\u001b[1;33m(\u001b[0m\u001b[0mmessage\u001b[0m\u001b[1;33m,\u001b[0m \u001b[0mscreen\u001b[0m\u001b[1;33m,\u001b[0m \u001b[0mstacktrace\u001b[0m\u001b[1;33m)\u001b[0m\u001b[1;33m\u001b[0m\u001b[1;33m\u001b[0m\u001b[0m\n\u001b[0m",
            "\u001b[1;31mElementNotInteractableException\u001b[0m: Message: element not interactable\n  (Session info: chrome=119.0.6045.200)\nStacktrace:\n\tGetHandleVerifier [0x00007FF61BB682B2+55298]\n\t(No symbol) [0x00007FF61BAD5E02]\n\t(No symbol) [0x00007FF61B99045D]\n\t(No symbol) [0x00007FF61B9D2B4C]\n\t(No symbol) [0x00007FF61B9C87BF]\n\t(No symbol) [0x00007FF61B9F20AA]\n\t(No symbol) [0x00007FF61B9C80CF]\n\t(No symbol) [0x00007FF61B9F22C0]\n\t(No symbol) [0x00007FF61BA0AAA4]\n\t(No symbol) [0x00007FF61B9F1E83]\n\t(No symbol) [0x00007FF61B9C670A]\n\t(No symbol) [0x00007FF61B9C7964]\n\tGetHandleVerifier [0x00007FF61BEE0AAB+3694587]\n\tGetHandleVerifier [0x00007FF61BF3728E+4048862]\n\tGetHandleVerifier [0x00007FF61BF2F173+4015811]\n\tGetHandleVerifier [0x00007FF61BC047D6+695590]\n\t(No symbol) [0x00007FF61BAE0CE8]\n\t(No symbol) [0x00007FF61BADCF34]\n\t(No symbol) [0x00007FF61BADD062]\n\t(No symbol) [0x00007FF61BACD3A3]\n\tBaseThreadInitThunk [0x00007FF81667257D+29]\n\tRtlUserThreadStart [0x00007FF817AAAA58+40]\n"
          ]
        }
      ],
      "source": [
        "import pandas as pd\n",
        "from selenium import webdriver # 웹 브라우저 자동화\n",
        "import time # 서버와 통신할 때 중간중간 시간 지연\n",
        "from selenium.webdriver.chrome.service import Service as ChromeService\n",
        "from webdriver_manager.chrome import ChromeDriverManager\n",
        "from selenium.webdriver.common.by import By\n",
        "\n",
        "driver = webdriver.Chrome()    # 웹브라우저 설정\n",
        "driver.get('https://www.melon.com/chart/age/index.htm?chartType=YE&chartGenre=KPOP&chartDate=2022')\n",
        "time.sleep(0.2)\n",
        "lyrics = []\n",
        "songs = []\n",
        "artists = []\n",
        "data = pd.DataFrame()\n",
        "for i in range(28,79):\n",
        "    info_list = driver.find_elements(By.CSS_SELECTOR,\".btn.btn_icon_detail\") # 곡정보 더보기 버튼 클릭\n",
        "    info_list[i].click()\n",
        "    time.sleep(0.2)\n",
        "    song = driver.find_element(By.CSS_SELECTOR,\".song_name\")\n",
        "    songs.append(song.text)\n",
        "    time.sleep(0.2)\n",
        "    artist = driver.find_element(By.CSS_SELECTOR,\".artist_name\")\n",
        "    artists.append(artist.text)\n",
        "    driver.find_element(By.CSS_SELECTOR,\".button_more.arrow_d\").click() # 가사 펼치기 버튼 클릭\n",
        "    time.sleep(0.2)\n",
        "    lyric = driver.find_element(By.CLASS_NAME,\"lyric.on\")\n",
        "    lyrics.append(lyric.text)\n",
        "    driver.back()"
      ]
    },
    {
      "cell_type": "code",
      "execution_count": null,
      "id": "85de8ade",
      "metadata": {
        "id": "85de8ade",
        "outputId": "b9993dda-fe7d-477e-9b52-312480c6fc80"
      },
      "outputs": [
        {
          "data": {
            "text/plain": [
              "50"
            ]
          },
          "execution_count": 15,
          "metadata": {},
          "output_type": "execute_result"
        }
      ],
      "source": [
        "len(songs)"
      ]
    },
    {
      "cell_type": "code",
      "execution_count": null,
      "id": "f8eb228f",
      "metadata": {
        "id": "f8eb228f",
        "outputId": "57e24421-ca1d-45ff-a166-da04097be881"
      },
      "outputs": [
        {
          "name": "stdout",
          "output_type": "stream",
          "text": [
            "['LOVE DIVE', 'TOMBOY', '취중고백', '사랑인가 봐', '사랑은 늘 도망가', 'ELEVEN', '봄여름가을겨울 (Still Life)', '다정히 내 이름을 부르면', 'That That (prod. & feat. SUGA of BTS)', '정이라고 하자 (Feat. 10CM)', '신호등', 'INVU', '회전목마 (Feat. Zion.T, 원슈타인) (Prod. Slom)', 'Feel My Rhythm', 'Hype Boy', 'GANADARA (Feat. 아이유)', 'Attention', 'After LIKE', '나의 X에게', '그때 그 순간 그대로 (그그그)', 'LOVE me', 'Next Level', '리무진 (Feat. MINO) (Prod. GRAY)', '드라마', 'strawberry moon', '너의 모든 순간', '내가 아니라도', '듣고 싶을까', '너를 생각해', 'Dynamite', '보고싶었어', 'SMILEY (Feat. BIBI)', 'Weekend', 'FEARLESS', 'Butter', 'Pink Venom', '언제나 사랑해', '밤하늘의 별을(2020)', '새삥 (Prod. ZICO) (Feat. 호미들)', 'Counting Stars (Feat. Beenzino)', '모든 날, 모든 순간 (Every day, Every Moment)', '눈이 오잖아(Feat.헤이즈)', '이제 나만 믿어요', 'OHAYO MY NIGHT', '내 손을 잡아', 'Permission to Dance', '우리들의 블루스', '바라만 본다', '사건의 지평선', 'Step Back']\n"
          ]
        }
      ],
      "source": [
        "print(songs)"
      ]
    },
    {
      "cell_type": "code",
      "execution_count": null,
      "id": "a141aa7e",
      "metadata": {
        "id": "a141aa7e"
      },
      "outputs": [],
      "source": [
        "import pandas as pd\n",
        "\n",
        "pd.DataFrame({'lyric': lyrics }).to_csv('C:/Users/admin/Desktop/data/2022melon50', index = False)"
      ]
    }
  ],
  "metadata": {
    "kernelspec": {
      "display_name": "Python 3 (ipykernel)",
      "language": "python",
      "name": "python3"
    },
    "language_info": {
      "codemirror_mode": {
        "name": "ipython",
        "version": 3
      },
      "file_extension": ".py",
      "mimetype": "text/x-python",
      "name": "python",
      "nbconvert_exporter": "python",
      "pygments_lexer": "ipython3",
      "version": "3.7.16"
    },
    "colab": {
      "provenance": [],
      "include_colab_link": true
    }
  },
  "nbformat": 4,
  "nbformat_minor": 5
}